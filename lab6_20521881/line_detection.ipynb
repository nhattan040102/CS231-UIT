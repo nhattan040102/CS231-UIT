{
 "cells": [
  {
   "cell_type": "code",
   "execution_count": 4,
   "metadata": {},
   "outputs": [],
   "source": [
    "import numpy as np\n",
    "import random"
   ]
  },
  {
   "cell_type": "code",
   "execution_count": 61,
   "metadata": {},
   "outputs": [],
   "source": [
    "\n",
    "def point_genration(n):\n",
    "\n",
    "    point_set = set();\n",
    "\n",
    "    for x in range(1, n + 1):\n",
    "        y = 5 * x + 7\n",
    "        point_set.add((x, y))\n",
    "    \n",
    "    \n",
    "    return point_set;"
   ]
  },
  {
   "cell_type": "code",
   "execution_count": 62,
   "metadata": {},
   "outputs": [],
   "source": [
    "points_list = list(point_genration(7))"
   ]
  },
  {
   "cell_type": "code",
   "execution_count": 37,
   "metadata": {},
   "outputs": [
    {
     "data": {
      "text/plain": [
       "[(1, 12), (2, 17), (6, 37), (7, 42), (5, 32), (3, 22), (4, 27)]"
      ]
     },
     "execution_count": 37,
     "metadata": {},
     "output_type": "execute_result"
    }
   ],
   "source": [
    "points_list"
   ]
  },
  {
   "cell_type": "code",
   "execution_count": 38,
   "metadata": {},
   "outputs": [],
   "source": [
    "def rand_point_generator(n):\n",
    "    rangeX = (-50, 50)\n",
    "    rangeY = (-50, 50)\n",
    "\n",
    "    point_set = set();\n",
    "    for i in range(1,n + 1):\n",
    "        x = random.randrange(*rangeX)\n",
    "        y = random.randrange(*rangeY)\n",
    "        point_set.add((x,y))\n",
    "        \n",
    "    return point_set"
   ]
  },
  {
   "cell_type": "code",
   "execution_count": 87,
   "metadata": {},
   "outputs": [],
   "source": [
    "# hàm tìm phương trình đường thẳng\n",
    "from decimal import Decimal\n",
    "def lin_equ(l1, l2):\n",
    "    \"\"\"Line encoded as l=(x,y).\"\"\"\n",
    "    m = Decimal((l2[1] - l1[1])) / Decimal(l2[0] - l1[0])\n",
    "    c = (l2[1] - (m * l2[0]))\n",
    "    return m, c"
   ]
  },
  {
   "cell_type": "code",
   "execution_count": 84,
   "metadata": {},
   "outputs": [],
   "source": [
    "def find_line(points_list):\n",
    "    flag = 0\n",
    "\n",
    "    while flag == 0:\n",
    "        rdn_points = list(rand_point_generator(int(7*0.3)))\n",
    "        new_list = points_list + rdn_points\n",
    "        random.shuffle(new_list)\n",
    "        length = len(new_list)\n",
    "\n",
    "        for i in range(length-1):\n",
    "            j = i + 1;\n",
    "\n",
    "            while (j < length): \n",
    "                #tìm phương trình đường thẳng của 2 điểm đang xét\n",
    "                a, b = lin_equ(new_list[i], new_list[j])\n",
    "\n",
    "    \n",
    "    "
   ]
  },
  {
   "cell_type": "code",
   "execution_count": 85,
   "metadata": {},
   "outputs": [
    {
     "name": "stdout",
     "output_type": "stream",
     "text": [
      "[1. 1.]\n"
     ]
    },
    {
     "name": "stderr",
     "output_type": "stream",
     "text": [
      "/var/folders/57/s96g49nn15dbw5ymslhc8lmh0000gp/T/ipykernel_23076/2851622580.py:1: RankWarning: Polyfit may be poorly conditioned\n",
      "  find_line(points_list)\n"
     ]
    }
   ],
   "source": [
    "find_line(points_list)"
   ]
  }
 ],
 "metadata": {
  "kernelspec": {
   "display_name": "Python 3.8.5 ('CS231': venv)",
   "language": "python",
   "name": "python3"
  },
  "language_info": {
   "codemirror_mode": {
    "name": "ipython",
    "version": 3
   },
   "file_extension": ".py",
   "mimetype": "text/x-python",
   "name": "python",
   "nbconvert_exporter": "python",
   "pygments_lexer": "ipython3",
   "version": "3.8.5"
  },
  "orig_nbformat": 4,
  "vscode": {
   "interpreter": {
    "hash": "b7fa28c8448f1d96cf014bfd4cb03bb7664cc39497c36f880cf3a2b4951aa7a3"
   }
  }
 },
 "nbformat": 4,
 "nbformat_minor": 2
}
